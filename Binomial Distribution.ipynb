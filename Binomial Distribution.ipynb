{
 "cells": [
  {
   "cell_type": "markdown",
   "id": "4aa9f9a3",
   "metadata": {},
   "source": [
    "# Visualization of Binomial Distribution"
   ]
  },
  {
   "cell_type": "code",
   "execution_count": 2,
   "id": "36a3945c",
   "metadata": {},
   "outputs": [],
   "source": [
    "import numpy as np\n",
    "import random\n",
    "import matplotlib.pyplot as plt\n",
    "import seaborn as sns\n",
    "\n",
    "#create data\n",
    "n, p = 10, .5  # number of trials, probability of each trial\n",
    "x = np.random.binomial(n, p, size=1000)\n",
    "                     \n"
   ]
  },
  {
   "cell_type": "code",
   "execution_count": 4,
   "id": "f3b23ed2",
   "metadata": {},
   "outputs": [
    {
     "data": {
      "image/png": "[encoded data removed]",
      "text/plain": [
       "<Figure size 360x360 with 1 Axes>"
      ]
     },
     "metadata": {
      "needs_background": "light"
     },
     "output_type": "display_data"
    }
   ],
   "source": [
    "sns.displot(x, kind='hist',  kde=False)\n",
    "\n",
    "plt.show()"
   ]
  },
  {
   "cell_type": "code",
   "execution_count": null,
   "id": "8365fcb8",
   "metadata": {},
   "outputs": [],
   "source": []
  }
 ],
 "metadata": {
  "kernelspec": {
   "display_name": "Python 3 (ipykernel)",
   "language": "python",
   "name": "python3"
  },
  "language_info": {
   "codemirror_mode": {
    "name": "ipython",
    "version": 3
   },
   "file_extension": ".py",
   "mimetype": "text/x-python",
   "name": "python",
   "nbconvert_exporter": "python",
   "pygments_lexer": "ipython3",
   "version": "3.9.12"
  }
 },
 "nbformat": 4,
 "nbformat_minor": 5
}
